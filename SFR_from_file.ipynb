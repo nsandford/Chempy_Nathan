{
 "cells": [
  {
   "cell_type": "code",
   "execution_count": 4,
   "metadata": {
    "collapsed": true
   },
   "outputs": [],
   "source": [
    "import numpy as np\n",
    "\n",
    "from Chempy.parameter import ModelParameters\n",
    "from Chempy.sfr import SFR\n",
    "from Chempy.solar_abundance import solar_abundances\n",
    "\n",
    "from Chempy.wrapper import Chempy"
   ]
  },
  {
   "cell_type": "code",
   "execution_count": 5,
   "metadata": {
    "collapsed": false
   },
   "outputs": [],
   "source": [
    "# Prescribed SFR\n",
    "name_of_file = '../Chempy/input/Daniel_Weisz/ic1613.lcid.final.sfh'\n",
    "\n",
    "# Paramaters\n",
    "time_steps = 136\n",
    "\n",
    "# Red Clump Selection Criteria\n",
    "selection = np.load(\"../Chempy/input/selection/red_clump_new.npy\")\n",
    "time_selection = np.load(\"../Chempy/input/selection/time_red_clump_new.npy\")"
   ]
  },
  {
   "cell_type": "code",
   "execution_count": 6,
   "metadata": {
    "collapsed": true
   },
   "outputs": [],
   "source": [
    "a = ModelParameters()\n",
    "\n",
    "basic_solar = solar_abundances()\n",
    "getattr(basic_solar, a.solar_abundance_name)() \n",
    "\n",
    "# Basic Gamma Function SFR\n",
    "basic_sfr = SFR(0,13.5,136)\n",
    "getattr(basic_sfr, a.basic_sfr_name)(S0 = a.S_0 * a.mass_factor,\n",
    "                                     a_parameter = a.a_parameter, \n",
    "                                     loc = a.sfr_beginning, \n",
    "                                     scale = a.sfr_scale)\n",
    "\n",
    "\n"
   ]
  },
  {
   "cell_type": "code",
   "execution_count": 7,
   "metadata": {
    "collapsed": false
   },
   "outputs": [
    {
     "name": "stderr",
     "output_type": "stream",
     "text": [
      "/Users/Nathan/anaconda/lib/python3.5/site-packages/Chempy/making_abundances.py:54: RuntimeWarning: divide by zero encountered in log10\n",
      "  cube_abundances[item] = np.where(cube_abundances[item] == 0. , -np.inf, np.log10(cube_abundances[item]) + 12.)\n",
      "/Users/Nathan/anaconda/lib/python3.5/site-packages/Chempy/making_abundances.py:54: RuntimeWarning: invalid value encountered in log10\n",
      "  cube_abundances[item] = np.where(cube_abundances[item] == 0. , -np.inf, np.log10(cube_abundances[item]) + 12.)\n"
     ]
    }
   ],
   "source": [
    "# SFR from file parameters\n",
    "a = ModelParameters()\n",
    "a.time_steps = time_steps\n",
    "a.name_infall_index = 0\n",
    "a.name_infall = 'primordial'\n",
    "a.basic_sfr_index = 2\n",
    "a.basic_sfr_name = 'prescribed'\n",
    "a.mass_factor = 1.\n",
    "a.name_of_file = name_of_file\n",
    "\n",
    "prescribed_sfr = SFR(0,13.5,time_steps)\n",
    "getattr(prescribed_sfr, a.basic_sfr_name)(mass_factor = a.mass_factor,\n",
    "                                          name_of_file = a.name_of_file)\n",
    "total_mass = np.trapz(prescribed_sfr.sfr,prescribed_sfr.t)\n",
    "a.total_mass = total_mass\n",
    "\n",
    "# Run Evolution\n",
    "cube, abundances = Chempy(a)"
   ]
  },
  {
   "cell_type": "code",
   "execution_count": 8,
   "metadata": {
    "collapsed": false
   },
   "outputs": [
    {
     "name": "stderr",
     "output_type": "stream",
     "text": [
      "/Users/Nathan/anaconda/lib/python3.5/site-packages/Chempy/making_abundances.py:54: RuntimeWarning: divide by zero encountered in log10\n",
      "  cube_abundances[item] = np.where(cube_abundances[item] == 0. , -np.inf, np.log10(cube_abundances[item]) + 12.)\n",
      "/Users/Nathan/anaconda/lib/python3.5/site-packages/Chempy/making_abundances.py:54: RuntimeWarning: invalid value encountered in log10\n",
      "  cube_abundances[item] = np.where(cube_abundances[item] == 0. , -np.inf, np.log10(cube_abundances[item]) + 12.)\n"
     ]
    }
   ],
   "source": [
    "# Default Gamma function SFR\n",
    "a = ModelParameters()\n",
    "a.time_steps = time_steps\n",
    "a.name_infall_index = 0\n",
    "a.name_infall = 'primordial'\n",
    "a.total_mass = total_mass\n",
    "\n",
    "basic_sfr = SFR(0,13.5,136)\n",
    "getattr(basic_sfr, a.basic_sfr_name)(S0 = a.S_0 * a.mass_factor,\n",
    "                                     a_parameter = a.a_parameter, \n",
    "                                     loc = a.sfr_beginning, \n",
    "                                     scale = a.sfr_scale)\n",
    "\n",
    "# Run Evolution\n",
    "cubebasic, abundancesbasic = Chempy(a)"
   ]
  },
  {
   "cell_type": "code",
   "execution_count": null,
   "metadata": {
    "collapsed": true
   },
   "outputs": [],
   "source": [
    "selection = np.interp(cube.cube['time'], time_selection[::-1], selection)"
   ]
  }
 ],
 "metadata": {
  "anaconda-cloud": {},
  "kernelspec": {
   "display_name": "Python [default]",
   "language": "python",
   "name": "python3"
  },
  "language_info": {
   "codemirror_mode": {
    "name": "ipython",
    "version": 3
   },
   "file_extension": ".py",
   "mimetype": "text/x-python",
   "name": "python",
   "nbconvert_exporter": "python",
   "pygments_lexer": "ipython3",
   "version": "3.5.2"
  }
 },
 "nbformat": 4,
 "nbformat_minor": 1
}
